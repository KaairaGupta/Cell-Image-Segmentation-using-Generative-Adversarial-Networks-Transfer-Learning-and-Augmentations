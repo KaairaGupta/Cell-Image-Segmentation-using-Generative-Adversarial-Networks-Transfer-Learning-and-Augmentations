{
  "nbformat": 4,
  "nbformat_minor": 0,
  "metadata": {
    "colab": {
      "name": "Untitled",
      "provenance": [],
      "collapsed_sections": []
    },
    "kernelspec": {
      "name": "python3",
      "display_name": "Python 3"
    }
  },
  "cells": [
    {
      "cell_type": "code",
      "metadata": {
        "id": "4b9lUJ8dXj69",
        "colab_type": "code",
        "colab": {}
      },
      "source": [
        "import torchvision.datasets as dset\n",
        "import torchvision.transforms as transforms\n",
        "from PIL import Image\n",
        "import matplotlib.pyplot as plt\n",
        "import torch\n",
        "import numpy as np\n",
        "from torchvision.transforms import ToTensor\n",
        "from torchvision.datasets.folder import IMG_EXTENSIONS\n",
        "import torchvision.utils as vutils\n",
        "from torchvision import get_image_backend    \n"
      ],
      "execution_count": 0,
      "outputs": []
    },
    {
      "cell_type": "code",
      "metadata": {
        "id": "xIbGWuYQfTj_",
        "colab_type": "code",
        "outputId": "ce343d59-9920-4542-b705-86ece4e9daa4",
        "colab": {
          "base_uri": "https://localhost:8080/",
          "height": 34
        }
      },
      "source": [
        "from google.colab import drive\n",
        "drive.mount('/content/drive')"
      ],
      "execution_count": 4,
      "outputs": [
        {
          "output_type": "stream",
          "text": [
            "Drive already mounted at /content/drive; to attempt to forcibly remount, call drive.mount(\"/content/drive\", force_remount=True).\n"
          ],
          "name": "stdout"
        }
      ]
    },
    {
      "cell_type": "code",
      "metadata": {
        "id": "VuM0PTxskg34",
        "colab_type": "code",
        "colab": {}
      },
      "source": [
        "def my_loader(path):\n",
        "                \n",
        "    def my_pil_loader(path):\n",
        "        print (\"loading {}\".format(path))\n",
        "        with open(path, 'rb') as f:\n",
        "            img = Image.open(f)\n",
        "            return img.convert('RGB')\n",
        "\n",
        "    if get_image_backend() == 'accimage':\n",
        "        print('{} uses accimage'.format(path))\n",
        "        try:\n",
        "            return accimage_loader(path)\n",
        "        except IOError:\n",
        "            print('{} accimage loading fail, using PIL'.format(path))\n",
        "            return my_pil_loader(path)\n",
        "    else:\n",
        "        print('{} uses PIL'.format(path))\n",
        "        return my_pil_loader(path)\n",
        "\n",
        "\n",
        "img_ext='tif'"
      ],
      "execution_count": 0,
      "outputs": []
    },
    {
      "cell_type": "code",
      "metadata": {
        "id": "rj6qT8HxgzWX",
        "colab_type": "code",
        "colab": {}
      },
      "source": [
        "root='/content/drive/My Drive/Colab Notebooks/Cell Image Segmentation using Generative Adversarial Networks, Transfer Learning, and Augmentations/dataset/annotated'\n",
        "dataset=dset.DatasetFolder(root,my_loader,img_ext,transform=transforms.Compose([\n",
        "                               transforms.ToTensor(),\n",
        "                           ]))\n",
        "\n",
        "dataloader = torch.utils.data.DataLoader(dataset, batch_size=64)"
      ],
      "execution_count": 0,
      "outputs": []
    },
    {
      "cell_type": "code",
      "metadata": {
        "id": "FP8AcUTKlHzp",
        "colab_type": "code",
        "colab": {}
      },
      "source": [
        "device = torch.device(\"cuda:0\" if (torch.cuda.is_available() and ngpu > 0) else \"cpu\")\n",
        "real_batch = next(iter(dataloader))\n",
        "plt.figure(figsize=(8,8))\n",
        "plt.axis(\"off\")\n",
        "plt.title(\"Training Images\")\n",
        "plt.imshow(np.transpose(vutils.make_grid(real_batch[0].to(device)[:64], padding=2, normalize=True).cpu(),(1,2,0)))"
      ],
      "execution_count": 0,
      "outputs": []
    }
  ]
}